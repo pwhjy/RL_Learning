{
 "cells": [
  {
   "cell_type": "code",
   "execution_count": 19,
   "metadata": {},
   "outputs": [],
   "source": [
    "import numpy as np\n",
    "import random"
   ]
  },
  {
   "cell_type": "code",
   "execution_count": 20,
   "metadata": {},
   "outputs": [],
   "source": [
    "# 初始化矩阵\n",
    "Q = np.zeros((6, 6))\n",
    "Q = np.matrix(Q)"
   ]
  },
  {
   "cell_type": "code",
   "execution_count": 21,
   "metadata": {},
   "outputs": [],
   "source": [
    "# 回报矩阵R\n",
    "R = np.matrix([[-1,-1,-1,-1,0,-1],[-1,-1,-1,0,-1,100],[-1,-1,-1,0,-1,-1],[-1,0,0,-1,0,-1],[0,-1,-1,0,-1,100],[-1,0,-1,-1,0,100]])"
   ]
  },
  {
   "cell_type": "code",
   "execution_count": 22,
   "metadata": {},
   "outputs": [],
   "source": [
    "# 设立学习参数\n",
    "γ = 0.8"
   ]
  },
  {
   "cell_type": "code",
   "execution_count": 23,
   "metadata": {},
   "outputs": [],
   "source": [
    "# 训练\n",
    "for i in range(2000):\n",
    "    # 对每一个训练,随机选择一种状态\n",
    "    state = random.randint(0, 5)\n",
    "    while True:\n",
    "        # 选择当前状态下的所有可能动作\n",
    "        r_pos_action = []\n",
    "        for action in range(6):\n",
    "            if R[state, action] >= 0:\n",
    "                r_pos_action.append(action)\n",
    "        next_state = r_pos_action[random.randint(0, len(r_pos_action) - 1)]\n",
    "        Q[state, next_state] = R[state, next_state] + γ *(Q[next_state]).max()  #更新\n",
    "        state = next_state\n",
    "        # 状态4位最优库存状态\n",
    "        if state==5:\n",
    "            break\n",
    "    #print(Q)"
   ]
  },
  {
   "cell_type": "code",
   "execution_count": 24,
   "metadata": {},
   "outputs": [
    {
     "name": "stdout",
     "output_type": "stream",
     "text": [
      "[[  0.   0.   0.   0. 400.   0.]\n",
      " [  0.   0.   0. 320.   0. 500.]\n",
      " [  0.   0.   0. 320.   0.   0.]\n",
      " [  0. 400. 256.   0. 400.   0.]\n",
      " [320.   0.   0. 320.   0. 500.]\n",
      " [  0. 400.   0.   0. 400. 500.]]\n"
     ]
    }
   ],
   "source": [
    "print(Q)"
   ]
  }
 ],
 "metadata": {
  "interpreter": {
   "hash": "5a38b755b013db342d6494d536b90e761e1bfe4d0b23f364c5a2673de638dfbe"
  },
  "kernelspec": {
   "display_name": "Python 3.7.11 ('py37')",
   "language": "python",
   "name": "python3"
  },
  "language_info": {
   "codemirror_mode": {
    "name": "ipython",
    "version": 3
   },
   "file_extension": ".py",
   "mimetype": "text/x-python",
   "name": "python",
   "nbconvert_exporter": "python",
   "pygments_lexer": "ipython3",
   "version": "3.7.11"
  },
  "orig_nbformat": 4
 },
 "nbformat": 4,
 "nbformat_minor": 2
}
